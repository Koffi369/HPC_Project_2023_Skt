{
  "nbformat": 4,
  "nbformat_minor": 0,
  "metadata": {
    "colab": {
      "provenance": [],
      "gpuType": "T4"
    },
    "kernelspec": {
      "name": "python3",
      "display_name": "Python 3"
    },
    "language_info": {
      "name": "python"
    },
    "accelerator": "GPU",
    "gpuClass": "standard"
  },
  "cells": [
    {
      "cell_type": "code",
      "execution_count": null,
      "metadata": {
        "id": "vERDuH7qb7vS"
      },
      "outputs": [],
      "source": [
        "import torch\n",
        "import matplotlib.pyplot as plt\n",
        "import numpy as np\n",
        "import torch.nn as nn\n",
        "import torch.optim as optim\n",
        "import torchvision.models as models\n",
        "import torchvision\n",
        "import torchvision.transforms as transforms\n",
        "from tqdm import tqdm\n",
        "\n",
        "torch.manual_seed(42)\n",
        "device = torch.device(\"cuda\" if torch.cuda.is_available() else \"cpu\")"
      ]
    },
    {
      "cell_type": "code",
      "source": [],
      "metadata": {
        "id": "FrxNFMuZsVPs"
      },
      "execution_count": null,
      "outputs": []
    },
    {
      "cell_type": "code",
      "source": [
        "torch.manual_seed(42)\n",
        "\n",
        "batch_size = 64\n",
        "\n",
        "train_transform = transforms.Compose([\n",
        "    transforms.ToTensor(),\n",
        "    transforms.Normalize((0.5, 0.5, 0.5), (0.5, 0.5, 0.5)),\n",
        "])\n",
        "test_transform = transforms.Compose([\n",
        "    transforms.ToTensor(),\n",
        "    transforms.Normalize((0.5, 0.5, 0.5), (0.5, 0.5, 0.5)),\n",
        "])\n",
        "\n",
        "train_set = torchvision.datasets.CIFAR10(root='./Py_CIFAR_Data/cifar_train', train=True, download=True, transform=train_transform)\n",
        "\n",
        "train_loader = torch.utils.data.DataLoader(train_set, batch_size=batch_size, shuffle=True, num_workers=8)\n",
        "\n",
        "\n",
        "test_set = torchvision.datasets.CIFAR10(root='./Py_CIFAR_Data/cifar_test', train=False, download=True, transform=test_transform)\n",
        "\n",
        "test_loader = torch.utils.data.DataLoader(test_set, batch_size=batch_size, shuffle=False, num_workers=8)\n",
        "\n",
        "\n",
        "classes = ('plane', 'car', 'bird', 'cat', 'deer', 'dog', 'frog', 'horse', 'ship', 'truck')\n",
        "\n",
        "print('Train size', len(train_set))\n",
        "print('Test size', len(test_set))"
      ],
      "metadata": {
        "colab": {
          "base_uri": "https://localhost:8080/"
        },
        "id": "JooUaVrQf8LH",
        "outputId": "7a89c562-f13a-4cc1-a4e7-741fc96e005a"
      },
      "execution_count": null,
      "outputs": [
        {
          "output_type": "stream",
          "name": "stdout",
          "text": [
            "Downloading https://www.cs.toronto.edu/~kriz/cifar-10-python.tar.gz to ./cifar_train/cifar-10-python.tar.gz\n"
          ]
        },
        {
          "output_type": "stream",
          "name": "stderr",
          "text": [
            "100%|██████████| 170498071/170498071 [00:03<00:00, 55184123.82it/s]\n"
          ]
        },
        {
          "output_type": "stream",
          "name": "stdout",
          "text": [
            "Extracting ./cifar_train/cifar-10-python.tar.gz to ./cifar_train\n"
          ]
        },
        {
          "output_type": "stream",
          "name": "stderr",
          "text": [
            "/usr/local/lib/python3.10/dist-packages/torch/utils/data/dataloader.py:560: UserWarning: This DataLoader will create 8 worker processes in total. Our suggested max number of worker in current system is 2, which is smaller than what this DataLoader is going to create. Please be aware that excessive worker creation might get DataLoader running slow or even freeze, lower the worker number to avoid potential slowness/freeze if necessary.\n",
            "  warnings.warn(_create_warning_msg(\n"
          ]
        },
        {
          "output_type": "stream",
          "name": "stdout",
          "text": [
            "Downloading https://www.cs.toronto.edu/~kriz/cifar-10-python.tar.gz to ./cifar_test/cifar-10-python.tar.gz\n"
          ]
        },
        {
          "output_type": "stream",
          "name": "stderr",
          "text": [
            "100%|██████████| 170498071/170498071 [00:08<00:00, 19934684.96it/s]\n"
          ]
        },
        {
          "output_type": "stream",
          "name": "stdout",
          "text": [
            "Extracting ./cifar_test/cifar-10-python.tar.gz to ./cifar_test\n",
            "Train size 50000\n",
            "Test size 10000\n"
          ]
        }
      ]
    },
    {
      "cell_type": "code",
      "source": [
        "import matplotlib.pyplot as plt\n",
        "import numpy as np\n",
        "\n",
        "def plot_random_images(loader):\n",
        "    inv_normalize = transforms.Compose([ transforms.Normalize(mean = [ 0., 0., 0. ], std = [ 2, 2, 2 ]),\n",
        "                                         transforms.Normalize(mean = [ -0.5, -0.5, -0.5 ], std = [ 1., 1., 1. ])])\n",
        "\n",
        "    images, labels = next(iter(loader))\n",
        "\n",
        "    fig, axs = plt.subplots(figsize = (20, 20), ncols = 10)\n",
        "    for n, image in enumerate(images):\n",
        "        # Denormalize the images\n",
        "        image = inv_normalize(image)\n",
        "        image = image.permute(1,2,0)\n",
        "        #image = (image - image.min()) / (image.max() - image.min())\n",
        "        axs[n].imshow(image)\n",
        "        axs[n].set_title(classes[labels.numpy()[n]])\n",
        "        axs[n].axis('off')\n",
        "        if n == 9:\n",
        "            break\n",
        "    plt.show()"
      ],
      "metadata": {
        "id": "rgrAU-UlgCI5"
      },
      "execution_count": null,
      "outputs": []
    },
    {
      "cell_type": "code",
      "source": [
        "print('Train (augmented) images.')\n",
        "plot_random_images(train_loader)"
      ],
      "metadata": {
        "colab": {
          "base_uri": "https://localhost:8080/",
          "height": 207
        },
        "id": "U9cZyL-UgN7I",
        "outputId": "a3bc70e2-f062-409b-f174-ccada1fa4ce8"
      },
      "execution_count": null,
      "outputs": [
        {
          "output_type": "stream",
          "name": "stdout",
          "text": [
            "Train (augmented) images.\n"
          ]
        },
        {
          "output_type": "display_data",
          "data": {
            "text/plain": [
              "<Figure size 2000x2000 with 10 Axes>"
            ],
            "image/png": "[encoded data removed]"
          },
          "metadata": {}
        }
      ]
    },
    {
      "cell_type": "code",
      "source": [
        "print('Test images (no augmentation).')\n",
        "plot_random_images(test_loader)"
      ],
      "metadata": {
        "colab": {
          "base_uri": "https://localhost:8080/",
          "height": 207
        },
        "id": "hWkVHYETggDO",
        "outputId": "8aaa33cf-1b8e-4a0a-f4c1-84df4a251388"
      },
      "execution_count": null,
      "outputs": [
        {
          "output_type": "stream",
          "name": "stdout",
          "text": [
            "Test images (no augmentation).\n"
          ]
        },
        {
          "output_type": "display_data",
          "data": {
            "text/plain": [
              "<Figure size 2000x2000 with 10 Axes>"
            ],
            "image/png": "[encoded data removed]"
          },
          "metadata": {}
        }
      ]
    },
    {
      "cell_type": "code",
      "source": [
        "def epoch_train(loader, clf, criterion, opt):\n",
        " \n",
        "    clf.train(True)  # set the model to training mode\n",
        "    total_loss, total_acc = [], []\n",
        "    for X, y_true in loader:\n",
        "        X, y_true = X.to(device), y_true.to(device)\n",
        "\n",
        "        # forward pass and compute the loss\n",
        "        y_pred = clf.forward(X)\n",
        "        loss = criterion(y_pred, y_true)\n",
        "        __, best_pred  = y_pred.max(axis=1)\n",
        "\n",
        "        # zero the gradients\n",
        "        opt.zero_grad()\n",
        "        # backward pass and optimization step\n",
        "        loss.backward()\n",
        "        opt.step()\n",
        "\n",
        "        # update the loss and accuracy\n",
        "        total_loss.append(loss.item())\n",
        "        total_acc.append(sum((best_pred == y_true)/ len(y_true)).item())\n",
        "        \n",
        "\n",
        "    avg_loss = sum(total_loss)/ len(loader)\n",
        "    avg_acc = sum(total_acc) / len(loader)\n",
        "\n",
        "    return avg_loss, avg_acc\n",
        "\n",
        "def epoch_test(loader, clf, criterion):\n",
        "\n",
        "    clf.eval()  # set the model to evaluation mode\n",
        "    total_loss, total_acc = [], []\n",
        "    \n",
        "    for X, y_true in loader:\n",
        "        X, y_true = X.to(device), y_true.to(device)\n",
        "\n",
        "        # forward pass and compute the loss\n",
        "        y_pred = clf.forward(X)\n",
        "        loss = criterion(y_pred, y_true)\n",
        "        __, best_pred  = y_pred.max(axis=1)\n",
        "       \n",
        "        # update the loss and accuracy\n",
        "        total_loss.append(loss.item())\n",
        "        total_acc.append(sum((best_pred == y_true)/ len(y_true)).item())\n",
        "       \n",
        "    avg_loss = sum(total_loss)/ len(loader)\n",
        "    avg_acc = sum(total_acc) / len(loader)\n",
        "\n",
        "    return avg_loss, avg_acc\n",
        "\n",
        "\n",
        "# The function which you are going to use for model training\n",
        "def train(train_loader, test_loader, clf, criterion, opt, n_epochs=50):\n",
        "    for epoch in tqdm(range(n_epochs)):\n",
        "        train_loss, train_acc = epoch_train(train_loader, clf, criterion, opt)\n",
        "        test_loss, test_acc = epoch_test(test_loader, clf, criterion)\n",
        "\n",
        "        print(f'[Epoch {epoch + 1}] train loss: {train_loss:.3f}; train acc: {train_acc:.2f}; ' + \n",
        "              f'test loss: {test_loss:.3f}; test acc: {test_acc:.2f}')"
      ],
      "metadata": {
        "id": "HNtx-CANgwZ0"
      },
      "execution_count": null,
      "outputs": []
    },
    {
      "cell_type": "code",
      "source": [
        "class MLP(torch.nn.Module):\n",
        "    def __init__(self, num_classes=10):\n",
        "        super(MLP, self).__init__()\n",
        "        self.layers = torch.nn.Sequential(\n",
        "            nn.Flatten(), \n",
        "            nn.Linear(3*32*32, 2048),\n",
        "            nn.ReLU(),\n",
        "\n",
        "            nn.Linear(2048,1024), \n",
        "            nn.ReLU(),\n",
        "\n",
        "            nn.Linear(1024,512), \n",
        "            nn.ReLU(),  \n",
        "\n",
        "            nn.Linear(512, num_classes)  \n",
        "        )\n",
        "\n",
        "    def forward(self, x):\n",
        "        return self.layers(x)\n",
        "    \n",
        "clf_mlp = MLP(num_classes=10).cuda()\n",
        "print('Number of weights:', np.sum([np.prod(p.shape) for p in clf_mlp.parameters()]))\n",
        "\n",
        "# Check that the output size of the network is BATCH_SIZE x NUM_CLASSES\n",
        "X = next(iter(train_loader))[0].cuda()\n",
        "with torch.no_grad():\n",
        "    clf_X = clf_mlp(X)\n",
        "    assert len(clf_X) == len(X)\n",
        "    assert clf_X.shape[1] == 10\n"
      ],
      "metadata": {
        "colab": {
          "base_uri": "https://localhost:8080/"
        },
        "id": "MsI6blWdgzGC",
        "outputId": "6ea9e623-21dd-4608-899b-e892051920fe"
      },
      "execution_count": null,
      "outputs": [
        {
          "output_type": "stream",
          "name": "stdout",
          "text": [
            "Number of weights: 8921610\n"
          ]
        }
      ]
    },
    {
      "cell_type": "code",
      "source": [
        "clf_mlp = clf_mlp.to(device)\n",
        "opt = torch.optim.SGD(clf_mlp.parameters(), lr=0.0001) \n",
        "\n",
        "criterion = nn.CrossEntropyLoss()\n",
        "\n",
        "train(train_loader, test_loader, clf_mlp, criterion, opt, n_epochs=50)"
      ],
      "metadata": {
        "colab": {
          "base_uri": "https://localhost:8080/"
        },
        "id": "_8q3y5L1g2S7",
        "outputId": "8abc465f-d57c-4c80-b97b-c96bfa19528d"
      },
      "execution_count": null,
      "outputs": [
        {
          "output_type": "stream",
          "name": "stderr",
          "text": [
            "  2%|▏         | 1/50 [00:19<16:11, 19.82s/it]"
          ]
        },
        {
          "output_type": "stream",
          "name": "stdout",
          "text": [
            "[Epoch 1] train loss: 2.304; train acc: 0.10; test loss: 2.303; test acc: 0.11\n"
          ]
        },
        {
          "output_type": "stream",
          "name": "stderr",
          "text": [
            "\r  4%|▍         | 2/50 [00:38<15:22, 19.21s/it]"
          ]
        },
        {
          "output_type": "stream",
          "name": "stdout",
          "text": [
            "[Epoch 2] train loss: 2.302; train acc: 0.11; test loss: 2.302; test acc: 0.11\n"
          ]
        },
        {
          "output_type": "stream",
          "name": "stderr",
          "text": [
            "\r  6%|▌         | 3/50 [00:58<15:19, 19.57s/it]"
          ]
        },
        {
          "output_type": "stream",
          "name": "stdout",
          "text": [
            "[Epoch 3] train loss: 2.301; train acc: 0.12; test loss: 2.301; test acc: 0.13\n"
          ]
        },
        {
          "output_type": "stream",
          "name": "stderr",
          "text": [
            "\r  8%|▊         | 4/50 [01:17<14:44, 19.22s/it]"
          ]
        },
        {
          "output_type": "stream",
          "name": "stdout",
          "text": [
            "[Epoch 4] train loss: 2.300; train acc: 0.13; test loss: 2.299; test acc: 0.14\n"
          ]
        },
        {
          "output_type": "stream",
          "name": "stderr",
          "text": [
            "\r 10%|█         | 5/50 [01:36<14:19, 19.09s/it]"
          ]
        },
        {
          "output_type": "stream",
          "name": "stdout",
          "text": [
            "[Epoch 5] train loss: 2.299; train acc: 0.14; test loss: 2.298; test acc: 0.15\n"
          ]
        },
        {
          "output_type": "stream",
          "name": "stderr",
          "text": [
            "\r 12%|█▏        | 6/50 [01:55<14:10, 19.33s/it]"
          ]
        },
        {
          "output_type": "stream",
          "name": "stdout",
          "text": [
            "[Epoch 6] train loss: 2.298; train acc: 0.15; test loss: 2.297; test acc: 0.15\n"
          ]
        },
        {
          "output_type": "stream",
          "name": "stderr",
          "text": [
            "\r 14%|█▍        | 7/50 [02:16<14:09, 19.76s/it]"
          ]
        },
        {
          "output_type": "stream",
          "name": "stdout",
          "text": [
            "[Epoch 7] train loss: 2.296; train acc: 0.15; test loss: 2.296; test acc: 0.16\n"
          ]
        },
        {
          "output_type": "stream",
          "name": "stderr",
          "text": [
            "\r 16%|█▌        | 8/50 [02:36<13:46, 19.68s/it]"
          ]
        },
        {
          "output_type": "stream",
          "name": "stdout",
          "text": [
            "[Epoch 8] train loss: 2.295; train acc: 0.16; test loss: 2.295; test acc: 0.17\n"
          ]
        },
        {
          "output_type": "stream",
          "name": "stderr",
          "text": [
            "\r 18%|█▊        | 9/50 [02:54<13:14, 19.38s/it]"
          ]
        },
        {
          "output_type": "stream",
          "name": "stdout",
          "text": [
            "[Epoch 9] train loss: 2.294; train acc: 0.17; test loss: 2.293; test acc: 0.17\n"
          ]
        },
        {
          "output_type": "stream",
          "name": "stderr",
          "text": [
            "\r 20%|██        | 10/50 [03:14<13:03, 19.59s/it]"
          ]
        },
        {
          "output_type": "stream",
          "name": "stdout",
          "text": [
            "[Epoch 10] train loss: 2.293; train acc: 0.18; test loss: 2.292; test acc: 0.18\n"
          ]
        },
        {
          "output_type": "stream",
          "name": "stderr",
          "text": [
            "\r 22%|██▏       | 11/50 [03:33<12:35, 19.38s/it]"
          ]
        },
        {
          "output_type": "stream",
          "name": "stdout",
          "text": [
            "[Epoch 11] train loss: 2.291; train acc: 0.19; test loss: 2.291; test acc: 0.19\n"
          ]
        },
        {
          "output_type": "stream",
          "name": "stderr",
          "text": [
            "\r 24%|██▍       | 12/50 [03:53<12:24, 19.59s/it]"
          ]
        },
        {
          "output_type": "stream",
          "name": "stdout",
          "text": [
            "[Epoch 12] train loss: 2.290; train acc: 0.20; test loss: 2.289; test acc: 0.20\n"
          ]
        },
        {
          "output_type": "stream",
          "name": "stderr",
          "text": [
            "\r 26%|██▌       | 13/50 [04:12<11:55, 19.33s/it]"
          ]
        },
        {
          "output_type": "stream",
          "name": "stdout",
          "text": [
            "[Epoch 13] train loss: 2.289; train acc: 0.20; test loss: 2.288; test acc: 0.21\n"
          ]
        },
        {
          "output_type": "stream",
          "name": "stderr",
          "text": [
            "\r 28%|██▊       | 14/50 [04:32<11:42, 19.51s/it]"
          ]
        },
        {
          "output_type": "stream",
          "name": "stdout",
          "text": [
            "[Epoch 14] train loss: 2.288; train acc: 0.21; test loss: 2.287; test acc: 0.21\n"
          ]
        },
        {
          "output_type": "stream",
          "name": "stderr",
          "text": [
            "\r 30%|███       | 15/50 [04:51<11:18, 19.40s/it]"
          ]
        },
        {
          "output_type": "stream",
          "name": "stdout",
          "text": [
            "[Epoch 15] train loss: 2.286; train acc: 0.22; test loss: 2.285; test acc: 0.22\n"
          ]
        },
        {
          "output_type": "stream",
          "name": "stderr",
          "text": [
            "\r 32%|███▏      | 16/50 [05:10<10:55, 19.28s/it]"
          ]
        },
        {
          "output_type": "stream",
          "name": "stdout",
          "text": [
            "[Epoch 16] train loss: 2.285; train acc: 0.22; test loss: 2.284; test acc: 0.22\n"
          ]
        },
        {
          "output_type": "stream",
          "name": "stderr",
          "text": [
            "\r 34%|███▍      | 17/50 [05:30<10:45, 19.56s/it]"
          ]
        },
        {
          "output_type": "stream",
          "name": "stdout",
          "text": [
            "[Epoch 17] train loss: 2.283; train acc: 0.22; test loss: 2.282; test acc: 0.23\n"
          ]
        },
        {
          "output_type": "stream",
          "name": "stderr",
          "text": [
            "\r 36%|███▌      | 18/50 [05:50<10:24, 19.51s/it]"
          ]
        },
        {
          "output_type": "stream",
          "name": "stdout",
          "text": [
            "[Epoch 18] train loss: 2.282; train acc: 0.23; test loss: 2.281; test acc: 0.23\n"
          ]
        },
        {
          "output_type": "stream",
          "name": "stderr",
          "text": [
            "\r 38%|███▊      | 19/50 [06:11<10:21, 20.06s/it]"
          ]
        },
        {
          "output_type": "stream",
          "name": "stdout",
          "text": [
            "[Epoch 19] train loss: 2.280; train acc: 0.23; test loss: 2.279; test acc: 0.23\n"
          ]
        },
        {
          "output_type": "stream",
          "name": "stderr",
          "text": [
            "\r 40%|████      | 20/50 [06:34<10:29, 20.99s/it]"
          ]
        },
        {
          "output_type": "stream",
          "name": "stdout",
          "text": [
            "[Epoch 20] train loss: 2.279; train acc: 0.23; test loss: 2.278; test acc: 0.24\n"
          ]
        },
        {
          "output_type": "stream",
          "name": "stderr",
          "text": [
            "\r 42%|████▏     | 21/50 [06:56<10:13, 21.15s/it]"
          ]
        },
        {
          "output_type": "stream",
          "name": "stdout",
          "text": [
            "[Epoch 21] train loss: 2.277; train acc: 0.24; test loss: 2.276; test acc: 0.24\n"
          ]
        },
        {
          "output_type": "stream",
          "name": "stderr",
          "text": [
            "\r 44%|████▍     | 22/50 [07:18<10:02, 21.50s/it]"
          ]
        },
        {
          "output_type": "stream",
          "name": "stdout",
          "text": [
            "[Epoch 22] train loss: 2.275; train acc: 0.24; test loss: 2.274; test acc: 0.24\n"
          ]
        },
        {
          "output_type": "stream",
          "name": "stderr",
          "text": [
            "\r 46%|████▌     | 23/50 [07:39<09:38, 21.41s/it]"
          ]
        },
        {
          "output_type": "stream",
          "name": "stdout",
          "text": [
            "[Epoch 23] train loss: 2.273; train acc: 0.24; test loss: 2.272; test acc: 0.24\n"
          ]
        },
        {
          "output_type": "stream",
          "name": "stderr",
          "text": [
            "\r 48%|████▊     | 24/50 [08:01<09:21, 21.60s/it]"
          ]
        },
        {
          "output_type": "stream",
          "name": "stdout",
          "text": [
            "[Epoch 24] train loss: 2.272; train acc: 0.24; test loss: 2.270; test acc: 0.25\n"
          ]
        },
        {
          "output_type": "stream",
          "name": "stderr",
          "text": [
            "\r 50%|█████     | 25/50 [08:22<08:51, 21.27s/it]"
          ]
        },
        {
          "output_type": "stream",
          "name": "stdout",
          "text": [
            "[Epoch 25] train loss: 2.270; train acc: 0.24; test loss: 2.268; test acc: 0.25\n"
          ]
        },
        {
          "output_type": "stream",
          "name": "stderr",
          "text": [
            "\r 52%|█████▏    | 26/50 [08:41<08:17, 20.75s/it]"
          ]
        },
        {
          "output_type": "stream",
          "name": "stdout",
          "text": [
            "[Epoch 26] train loss: 2.268; train acc: 0.25; test loss: 2.266; test acc: 0.25\n"
          ]
        },
        {
          "output_type": "stream",
          "name": "stderr",
          "text": [
            "\r 54%|█████▍    | 27/50 [09:01<07:48, 20.35s/it]"
          ]
        },
        {
          "output_type": "stream",
          "name": "stdout",
          "text": [
            "[Epoch 27] train loss: 2.265; train acc: 0.25; test loss: 2.264; test acc: 0.25\n"
          ]
        },
        {
          "output_type": "stream",
          "name": "stderr",
          "text": [
            "\r 56%|█████▌    | 28/50 [09:21<07:25, 20.23s/it]"
          ]
        },
        {
          "output_type": "stream",
          "name": "stdout",
          "text": [
            "[Epoch 28] train loss: 2.263; train acc: 0.25; test loss: 2.262; test acc: 0.25\n"
          ]
        },
        {
          "output_type": "stream",
          "name": "stderr",
          "text": [
            "\r 58%|█████▊    | 29/50 [09:40<06:59, 19.99s/it]"
          ]
        },
        {
          "output_type": "stream",
          "name": "stdout",
          "text": [
            "[Epoch 29] train loss: 2.261; train acc: 0.25; test loss: 2.259; test acc: 0.25\n"
          ]
        },
        {
          "output_type": "stream",
          "name": "stderr",
          "text": [
            "\r 60%|██████    | 30/50 [10:00<06:40, 20.04s/it]"
          ]
        },
        {
          "output_type": "stream",
          "name": "stdout",
          "text": [
            "[Epoch 30] train loss: 2.259; train acc: 0.25; test loss: 2.257; test acc: 0.25\n"
          ]
        },
        {
          "output_type": "stream",
          "name": "stderr",
          "text": [
            "\r 62%|██████▏   | 31/50 [10:20<06:16, 19.82s/it]"
          ]
        },
        {
          "output_type": "stream",
          "name": "stdout",
          "text": [
            "[Epoch 31] train loss: 2.256; train acc: 0.25; test loss: 2.254; test acc: 0.25\n"
          ]
        },
        {
          "output_type": "stream",
          "name": "stderr",
          "text": [
            "\r 64%|██████▍   | 32/50 [10:42<06:08, 20.48s/it]"
          ]
        },
        {
          "output_type": "stream",
          "name": "stdout",
          "text": [
            "[Epoch 32] train loss: 2.254; train acc: 0.25; test loss: 2.252; test acc: 0.26\n"
          ]
        },
        {
          "output_type": "stream",
          "name": "stderr",
          "text": [
            "\r 66%|██████▌   | 33/50 [11:01<05:41, 20.09s/it]"
          ]
        },
        {
          "output_type": "stream",
          "name": "stdout",
          "text": [
            "[Epoch 33] train loss: 2.251; train acc: 0.25; test loss: 2.249; test acc: 0.26\n"
          ]
        },
        {
          "output_type": "stream",
          "name": "stderr",
          "text": [
            "\r 68%|██████▊   | 34/50 [11:22<05:24, 20.30s/it]"
          ]
        },
        {
          "output_type": "stream",
          "name": "stdout",
          "text": [
            "[Epoch 34] train loss: 2.248; train acc: 0.25; test loss: 2.246; test acc: 0.26\n"
          ]
        },
        {
          "output_type": "stream",
          "name": "stderr",
          "text": [
            "\r 70%|███████   | 35/50 [11:41<05:00, 20.02s/it]"
          ]
        },
        {
          "output_type": "stream",
          "name": "stdout",
          "text": [
            "[Epoch 35] train loss: 2.245; train acc: 0.25; test loss: 2.243; test acc: 0.26\n"
          ]
        },
        {
          "output_type": "stream",
          "name": "stderr",
          "text": [
            "\r 72%|███████▏  | 36/50 [12:02<04:42, 20.18s/it]"
          ]
        },
        {
          "output_type": "stream",
          "name": "stdout",
          "text": [
            "[Epoch 36] train loss: 2.242; train acc: 0.25; test loss: 2.240; test acc: 0.26\n"
          ]
        },
        {
          "output_type": "stream",
          "name": "stderr",
          "text": [
            "\r 74%|███████▍  | 37/50 [12:21<04:18, 19.92s/it]"
          ]
        },
        {
          "output_type": "stream",
          "name": "stdout",
          "text": [
            "[Epoch 37] train loss: 2.239; train acc: 0.25; test loss: 2.237; test acc: 0.26\n"
          ]
        },
        {
          "output_type": "stream",
          "name": "stderr",
          "text": [
            "\r 76%|███████▌  | 38/50 [12:41<03:59, 19.99s/it]"
          ]
        },
        {
          "output_type": "stream",
          "name": "stdout",
          "text": [
            "[Epoch 38] train loss: 2.235; train acc: 0.25; test loss: 2.233; test acc: 0.26\n"
          ]
        },
        {
          "output_type": "stream",
          "name": "stderr",
          "text": [
            "\r 78%|███████▊  | 39/50 [13:00<03:37, 19.74s/it]"
          ]
        },
        {
          "output_type": "stream",
          "name": "stdout",
          "text": [
            "[Epoch 39] train loss: 2.232; train acc: 0.25; test loss: 2.229; test acc: 0.26\n"
          ]
        },
        {
          "output_type": "stream",
          "name": "stderr",
          "text": [
            "\r 80%|████████  | 40/50 [13:21<03:19, 19.96s/it]"
          ]
        },
        {
          "output_type": "stream",
          "name": "stdout",
          "text": [
            "[Epoch 40] train loss: 2.228; train acc: 0.25; test loss: 2.226; test acc: 0.26\n"
          ]
        },
        {
          "output_type": "stream",
          "name": "stderr",
          "text": [
            "\r 82%|████████▏ | 41/50 [13:40<02:57, 19.73s/it]"
          ]
        },
        {
          "output_type": "stream",
          "name": "stdout",
          "text": [
            "[Epoch 41] train loss: 2.225; train acc: 0.26; test loss: 2.222; test acc: 0.26\n"
          ]
        },
        {
          "output_type": "stream",
          "name": "stderr",
          "text": [
            "\r 84%|████████▍ | 42/50 [14:00<02:39, 19.99s/it]"
          ]
        },
        {
          "output_type": "stream",
          "name": "stdout",
          "text": [
            "[Epoch 42] train loss: 2.221; train acc: 0.25; test loss: 2.218; test acc: 0.26\n"
          ]
        },
        {
          "output_type": "stream",
          "name": "stderr",
          "text": [
            "\r 86%|████████▌ | 43/50 [14:20<02:18, 19.75s/it]"
          ]
        },
        {
          "output_type": "stream",
          "name": "stdout",
          "text": [
            "[Epoch 43] train loss: 2.217; train acc: 0.25; test loss: 2.214; test acc: 0.26\n"
          ]
        },
        {
          "output_type": "stream",
          "name": "stderr",
          "text": [
            "\r 88%|████████▊ | 44/50 [14:40<01:58, 19.80s/it]"
          ]
        },
        {
          "output_type": "stream",
          "name": "stdout",
          "text": [
            "[Epoch 44] train loss: 2.213; train acc: 0.25; test loss: 2.210; test acc: 0.26\n"
          ]
        },
        {
          "output_type": "stream",
          "name": "stderr",
          "text": [
            "\r 90%|█████████ | 45/50 [15:01<01:41, 20.21s/it]"
          ]
        },
        {
          "output_type": "stream",
          "name": "stdout",
          "text": [
            "[Epoch 45] train loss: 2.208; train acc: 0.25; test loss: 2.205; test acc: 0.26\n"
          ]
        },
        {
          "output_type": "stream",
          "name": "stderr",
          "text": [
            "\r 92%|█████████▏| 46/50 [15:20<01:19, 19.99s/it]"
          ]
        },
        {
          "output_type": "stream",
          "name": "stdout",
          "text": [
            "[Epoch 46] train loss: 2.204; train acc: 0.25; test loss: 2.201; test acc: 0.26\n"
          ]
        },
        {
          "output_type": "stream",
          "name": "stderr",
          "text": [
            "\r 94%|█████████▍| 47/50 [15:40<00:59, 19.99s/it]"
          ]
        },
        {
          "output_type": "stream",
          "name": "stdout",
          "text": [
            "[Epoch 47] train loss: 2.199; train acc: 0.25; test loss: 2.196; test acc: 0.26\n"
          ]
        },
        {
          "output_type": "stream",
          "name": "stderr",
          "text": [
            "\r 96%|█████████▌| 48/50 [16:00<00:39, 19.79s/it]"
          ]
        },
        {
          "output_type": "stream",
          "name": "stdout",
          "text": [
            "[Epoch 48] train loss: 2.195; train acc: 0.25; test loss: 2.191; test acc: 0.26\n"
          ]
        },
        {
          "output_type": "stream",
          "name": "stderr",
          "text": [
            "\r 98%|█████████▊| 49/50 [16:20<00:19, 19.98s/it]"
          ]
        },
        {
          "output_type": "stream",
          "name": "stdout",
          "text": [
            "[Epoch 49] train loss: 2.190; train acc: 0.25; test loss: 2.187; test acc: 0.26\n"
          ]
        },
        {
          "output_type": "stream",
          "name": "stderr",
          "text": [
            "100%|██████████| 50/50 [16:39<00:00, 19.99s/it]"
          ]
        },
        {
          "output_type": "stream",
          "name": "stdout",
          "text": [
            "[Epoch 50] train loss: 2.186; train acc: 0.25; test loss: 2.182; test acc: 0.26\n"
          ]
        },
        {
          "output_type": "stream",
          "name": "stderr",
          "text": [
            "\n"
          ]
        }
      ]
    },
    {
      "cell_type": "code",
      "source": [],
      "metadata": {
        "id": "e8EZf8SUiPLQ"
      },
      "execution_count": null,
      "outputs": []
    }
  ]
}